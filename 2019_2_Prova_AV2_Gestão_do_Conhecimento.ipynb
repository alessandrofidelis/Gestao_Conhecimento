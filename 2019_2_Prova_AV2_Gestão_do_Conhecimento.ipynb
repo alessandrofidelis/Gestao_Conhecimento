{
  "nbformat": 4,
  "nbformat_minor": 0,
  "metadata": {
    "kernelspec": {
      "display_name": "Python 3",
      "language": "python",
      "name": "python3"
    },
    "language_info": {
      "codemirror_mode": {
        "name": "ipython",
        "version": 3
      },
      "file_extension": ".py",
      "mimetype": "text/x-python",
      "name": "python",
      "nbconvert_exporter": "python",
      "pygments_lexer": "ipython3",
      "version": "3.7.2"
    },
    "colab": {
      "name": "2019.2.Prova_AV2_Gestão_do_Conhecimento.ipynb",
      "provenance": [],
      "collapsed_sections": [],
      "include_colab_link": true
    }
  },
  "cells": [
    {
      "cell_type": "markdown",
      "metadata": {
        "id": "view-in-github",
        "colab_type": "text"
      },
      "source": [
        "<a href=\"https://colab.research.google.com/github/alessandrofidelis/Gestao_conhecimento/blob/master/2019_2_Prova_AV2_Gest%C3%A3o_do_Conhecimento.ipynb\" target=\"_parent\"><img src=\"https://colab.research.google.com/assets/colab-badge.svg\" alt=\"Open In Colab\"/></a>"
      ]
    },
    {
      "cell_type": "markdown",
      "metadata": {
        "id": "8e6IcCsJCxVz",
        "colab_type": "text"
      },
      "source": [
        "DISCIPLINA: Gestão do Conhecimento\t PROFESSOR(A): Alex Salgado\n",
        "PERÍODO: 7o. TURNO: noite AVALIAÇÃO:\n",
        "\n",
        "ALUNO(A): _\n",
        "\n",
        "GRAU: VISTO DO PROFESSOR:\n"
      ]
    },
    {
      "cell_type": "markdown",
      "metadata": {
        "id": "_3h1pahVCxV2",
        "colab_type": "text"
      },
      "source": [
        "# Questão 1 - valor (1,0)\n"
      ]
    },
    {
      "cell_type": "markdown",
      "metadata": {
        "id": "A-cj5d2rCxV3",
        "colab_type": "text"
      },
      "source": [
        "*** Crie um repositório no Github e adicione este arquivo no mesmo\n",
        "\n",
        "\n",
        "1.1 - Você deve escolher uma base de dados aberta que seja possível treinar um modelo de aprendizagem de máquina Supervisionado de Classificação (assim como o exemplo da Iris e Cancer). A partir desta base de dados, você vai treinar o modelo, fazer previsões e calcular a acurácia do mesmo.\n",
        "Obs.: Não utilizar nenhuma base de dados usada em aula ou nos trabalhos.\n"
      ]
    },
    {
      "cell_type": "markdown",
      "metadata": {
        "id": "3P5uSWxsDb5r",
        "colab_type": "text"
      },
      "source": [
        ""
      ]
    },
    {
      "cell_type": "code",
      "metadata": {
        "id": "CWD182zJCxV4",
        "colab_type": "code",
        "colab": {}
      },
      "source": [
        ""
      ],
      "execution_count": 0,
      "outputs": []
    },
    {
      "cell_type": "markdown",
      "metadata": {
        "id": "a-D7KRIzCxV8",
        "colab_type": "text"
      },
      "source": [
        "1.2 - Após tratada, criar uma pasta no seu GoogleDrive e disponibilizar o link do arquivo de sua base (csv, xlsx, etc) para ser importado no seu código."
      ]
    },
    {
      "cell_type": "code",
      "metadata": {
        "id": "lT8fVn5TCxV8",
        "colab_type": "code",
        "colab": {}
      },
      "source": [
        ""
      ],
      "execution_count": 0,
      "outputs": []
    },
    {
      "cell_type": "markdown",
      "metadata": {
        "id": "lvPXgDBDCxV_",
        "colab_type": "text"
      },
      "source": [
        "## Criar um código usando o Jupyter Notebook e responder (através de código) às seguintes questões:\n"
      ]
    },
    {
      "cell_type": "markdown",
      "metadata": {
        "id": "LMkAEsOKCxWA",
        "colab_type": "text"
      },
      "source": [
        "# Questão 2 - valor (1,0)"
      ]
    },
    {
      "cell_type": "markdown",
      "metadata": {
        "id": "yOSNQel0CxWA",
        "colab_type": "text"
      },
      "source": [
        "2.1 - Importar os modulos python para machine learn e carregar o arquivo \n",
        "\n",
        "** Sugestão se for do tipo xlsx, usar o read_excel do pandas\n",
        "import pandas as pd\n",
        "dt = pd.read_excel(\"meuarquivo.xlsx\")\n"
      ]
    },
    {
      "cell_type": "code",
      "metadata": {
        "id": "zA6l-qg9CxWB",
        "colab_type": "code",
        "colab": {}
      },
      "source": [
        ""
      ],
      "execution_count": 0,
      "outputs": []
    },
    {
      "cell_type": "markdown",
      "metadata": {
        "id": "_NIYxnZnCxWD",
        "colab_type": "text"
      },
      "source": [
        "2.2 - Exibir os primeiros registros desta tabela.\n"
      ]
    },
    {
      "cell_type": "code",
      "metadata": {
        "id": "owd5CVN9CxWE",
        "colab_type": "code",
        "colab": {}
      },
      "source": [
        ""
      ],
      "execution_count": 0,
      "outputs": []
    },
    {
      "cell_type": "markdown",
      "metadata": {
        "id": "ROM2Hy1CCxWG",
        "colab_type": "text"
      },
      "source": [
        "2.3 - De que se trata esse banco de dados? e que tipo de previsão pode ser feito com ele?\n"
      ]
    },
    {
      "cell_type": "code",
      "metadata": {
        "id": "Xh68K5SjCxWH",
        "colab_type": "code",
        "colab": {}
      },
      "source": [
        ""
      ],
      "execution_count": 0,
      "outputs": []
    },
    {
      "cell_type": "markdown",
      "metadata": {
        "id": "1lCf85KKCxWJ",
        "colab_type": "text"
      },
      "source": [
        "# Questão 3 - valor (0,5)\n"
      ]
    },
    {
      "cell_type": "markdown",
      "metadata": {
        "id": "isyZsq2NCxWK",
        "colab_type": "text"
      },
      "source": [
        "Utilizando as terminologias de Machine Learning(features e observações):\n",
        "\n"
      ]
    },
    {
      "cell_type": "markdown",
      "metadata": {
        "id": "pbuaWyeECxWL",
        "colab_type": "text"
      },
      "source": [
        "3.1 - Quantas \"features\" têm nessa base de dados?"
      ]
    },
    {
      "cell_type": "code",
      "metadata": {
        "id": "MY5Xwd0gCxWL",
        "colab_type": "code",
        "colab": {}
      },
      "source": [
        ""
      ],
      "execution_count": 0,
      "outputs": []
    },
    {
      "cell_type": "markdown",
      "metadata": {
        "id": "RtwxkASmCxWN",
        "colab_type": "text"
      },
      "source": [
        "3.2 - Quantas observações têm nessa base de dados?\n"
      ]
    },
    {
      "cell_type": "code",
      "metadata": {
        "id": "yN1QNvh-CxWO",
        "colab_type": "code",
        "colab": {}
      },
      "source": [
        ""
      ],
      "execution_count": 0,
      "outputs": []
    },
    {
      "cell_type": "markdown",
      "metadata": {
        "id": "AudYWfr1CxWQ",
        "colab_type": "text"
      },
      "source": [
        "# Questão 4 - valor (1,0)\n"
      ]
    },
    {
      "cell_type": "markdown",
      "metadata": {
        "id": "pJxRMc1HCxWR",
        "colab_type": "text"
      },
      "source": [
        "4.1 - Faça uma previsão, usando o algoritmo de LogisticRegression.\n"
      ]
    },
    {
      "cell_type": "code",
      "metadata": {
        "id": "Tu7ZKtSkCxWS",
        "colab_type": "code",
        "colab": {}
      },
      "source": [
        ""
      ],
      "execution_count": 0,
      "outputs": []
    },
    {
      "cell_type": "markdown",
      "metadata": {
        "id": "xbpLvAhTCxWU",
        "colab_type": "text"
      },
      "source": [
        "# Questão 5 - valor (1,5)\n"
      ]
    },
    {
      "cell_type": "markdown",
      "metadata": {
        "id": "cp4fWsL7CxWU",
        "colab_type": "text"
      },
      "source": [
        "Usando o método de avaliação de acurácia (Treinar e testar na base de dados inteira/Train test entire model), Calcular a acurácia de cada um dos 3 métodos abaixo."
      ]
    },
    {
      "cell_type": "markdown",
      "metadata": {
        "id": "C40t1F9ICxWV",
        "colab_type": "text"
      },
      "source": [
        "4.1 - Acurácia usando o algoritmo de KNN (com 1 vizinho, k=1)\n"
      ]
    },
    {
      "cell_type": "code",
      "metadata": {
        "id": "3d5YPueDCxWW",
        "colab_type": "code",
        "colab": {}
      },
      "source": [
        ""
      ],
      "execution_count": 0,
      "outputs": []
    },
    {
      "cell_type": "markdown",
      "metadata": {
        "id": "mNmy44xfCxWY",
        "colab_type": "text"
      },
      "source": [
        "4.2 - Acurácia usando o algoritmo de KNN (com 5 vizinho, k=5)\n"
      ]
    },
    {
      "cell_type": "code",
      "metadata": {
        "id": "caGkCtYGCxWY",
        "colab_type": "code",
        "colab": {}
      },
      "source": [
        ""
      ],
      "execution_count": 0,
      "outputs": []
    },
    {
      "cell_type": "markdown",
      "metadata": {
        "id": "3xUZm_JICxWa",
        "colab_type": "text"
      },
      "source": [
        "4.3 - Acurácia usando o algoritmo de LogisticRegression\n"
      ]
    },
    {
      "cell_type": "code",
      "metadata": {
        "id": "VvAgNcVsCxWb",
        "colab_type": "code",
        "colab": {}
      },
      "source": [
        ""
      ],
      "execution_count": 0,
      "outputs": []
    },
    {
      "cell_type": "markdown",
      "metadata": {
        "id": "8FkyIUHbCxWd",
        "colab_type": "text"
      },
      "source": [
        "4.4 - De acordo com seus resultados anteriores, qual dos 3 métodos é mais eficiente?\n"
      ]
    },
    {
      "cell_type": "code",
      "metadata": {
        "id": "K0AE8XQ1CxWd",
        "colab_type": "code",
        "colab": {}
      },
      "source": [
        ""
      ],
      "execution_count": 0,
      "outputs": []
    },
    {
      "cell_type": "code",
      "metadata": {
        "id": "zRDUIRloCxWf",
        "colab_type": "code",
        "colab": {}
      },
      "source": [
        "*** Envie o link do seu Github com essa resposta no Classroom\n"
      ],
      "execution_count": 0,
      "outputs": []
    }
  ]
}